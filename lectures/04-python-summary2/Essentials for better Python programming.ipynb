{
 "cells": [
  {
   "cell_type": "markdown",
   "metadata": {
    "slideshow": {
     "slide_type": "slide"
    }
   },
   "source": [
    "# Essentials to better Python\n",
    "\n",
    "**Overview**\n",
    " * List comprehensions\n",
    " * Decorators\n",
    " * Writing good documentation "
   ]
  },
  {
   "cell_type": "markdown",
   "metadata": {
    "slideshow": {
     "slide_type": "slide"
    }
   },
   "source": [
    "# List comprehensions\n",
    "\n",
    "List comprehensions provide a compact and readible way to create lists. \n",
    "\n",
    "\n",
    "**Syntax**:\n",
    "\n",
    "Create a list without list comprehension:\n",
    "\n",
    "```python\n",
    "new_list = []\n",
    "for i in old_list:\n",
    "    if filter(i):\n",
    "        new_list.append(my_func(i))\n",
    "```        \n",
    "the same task with list comprehension\n",
    "\n",
    "```python\n",
    "new_list = [my_func(i) for i in old_list if filter(i)]\n",
    "```"
   ]
  },
  {
   "cell_type": "markdown",
   "metadata": {
    "slideshow": {
     "slide_type": "subslide"
    }
   },
   "source": [
    "### Example 1: List of even numbers\n",
    "\n",
    "**Task**: Create a list of even numbers.\n",
    "\n",
    "**Solution** without list comprehension:"
   ]
  },
  {
   "cell_type": "code",
   "execution_count": 1,
   "metadata": {},
   "outputs": [
    {
     "name": "stdout",
     "output_type": "stream",
     "text": [
      "[0, 2, 4, 6, 8, 10, 12, 14, 16, 18]\n"
     ]
    }
   ],
   "source": [
    "def is_even(i):\n",
    "    return i%2==0\n",
    "\n",
    "even_numbers = []\n",
    "for i in range(20):\n",
    "    if is_even(i):\n",
    "        even_numbers.append(i)\n",
    "print(even_numbers)"
   ]
  },
  {
   "cell_type": "markdown",
   "metadata": {},
   "source": [
    "**Solution** with list comprehension:"
   ]
  },
  {
   "cell_type": "code",
   "execution_count": 2,
   "metadata": {},
   "outputs": [
    {
     "data": {
      "text/plain": [
       "[0, 2, 4, 6, 8, 10, 12, 14, 16, 18]"
      ]
     },
     "execution_count": 2,
     "metadata": {},
     "output_type": "execute_result"
    }
   ],
   "source": [
    "even_numbers = [i for i in range(20) if i%2==0]\n",
    "even_numbers"
   ]
  },
  {
   "cell_type": "markdown",
   "metadata": {
    "slideshow": {
     "slide_type": "subslide"
    }
   },
   "source": [
    "### Example 2: Remove sensitive information from log data\n",
    "\n",
    "**Task**: Remove all strings in a logfile that contain passwords\n",
    "\n",
    "**Solution** without list comprehension:"
   ]
  },
  {
   "cell_type": "code",
   "execution_count": 3,
   "metadata": {},
   "outputs": [
    {
     "data": {
      "text/plain": [
       "['09.Sept 2019 14:30: New user enters webpage',\n",
       " '09.Sept 2019 14:31: Login email: simon@simula.no',\n",
       " '09.Sept 2019 14:35: User leaves webpage']"
      ]
     },
     "execution_count": 3,
     "metadata": {},
     "output_type": "execute_result"
    }
   ],
   "source": [
    "fp = open(\"log.txt\", \"r\")\n",
    "\n",
    "log = []\n",
    "for line in fp:\n",
    "    if \"password\" not in line:\n",
    "        log.append(line.strip())\n",
    "fp.close() \n",
    "\n",
    "log"
   ]
  },
  {
   "cell_type": "markdown",
   "metadata": {},
   "source": [
    "**Solution** with list comprehension:"
   ]
  },
  {
   "cell_type": "code",
   "execution_count": 4,
   "metadata": {
    "scrolled": true
   },
   "outputs": [
    {
     "data": {
      "text/plain": [
       "['09.Sept 2019 14:30: New user enters webpage',\n",
       " '09.Sept 2019 14:31: Login email: simon@simula.no',\n",
       " '09.Sept 2019 14:35: User leaves webpage']"
      ]
     },
     "execution_count": 4,
     "metadata": {},
     "output_type": "execute_result"
    }
   ],
   "source": [
    "with open('log.txt', \"r\") as fp:\n",
    "    log = [line.strip() for line in fp if \"password\" not in line]\n",
    "    \n",
    "log    "
   ]
  },
  {
   "cell_type": "markdown",
   "metadata": {
    "slideshow": {
     "slide_type": "slide"
    }
   },
   "source": [
    "## Decorators  in Python"
   ]
  },
  {
   "cell_type": "code",
   "execution_count": 7,
   "metadata": {
    "slideshow": {
     "slide_type": "skip"
    }
   },
   "outputs": [],
   "source": [
    "def uppercase(func):\n",
    "    def wrapper(*args, **kwargs):\n",
    "        return func(*args, **kwargs).upper()\n",
    "    return wrapper\n",
    "\n",
    "def lowercase(func):\n",
    "    def wrapper(*args, **kwargs):\n",
    "        return func(*args, **kwargs).lower()\n",
    "    return wrapper\n",
    "\n",
    "def debug(func):\n",
    "    def wrapper(*args, **kwargs):\n",
    "        print(f\"DEBUG: Calling function:   {str(func)})\")\n",
    "        print(f\"DEBUG: Function arguments: {args}, keyword arguments {kwargs})\")\n",
    "        out = func(*args, **kwargs).lower()\n",
    "        print(f\"DEBUG: function output: '{out}', (type {type(out)})\")\n",
    "        return out\n",
    "    return wrapper"
   ]
  },
  {
   "cell_type": "markdown",
   "metadata": {
    "slideshow": {
     "slide_type": "subslide"
    }
   },
   "source": [
    "## What is a decorator?\n",
    "\n",
    "A decorator \n",
    "**allows a user to add new functionality to an existing object without modifying its structure**. \n",
    "\n",
    "Demo:"
   ]
  },
  {
   "cell_type": "code",
   "execution_count": 11,
   "metadata": {},
   "outputs": [
    {
     "name": "stdout",
     "output_type": "stream",
     "text": [
      "DEBUG: Calling function:   <function greet at 0x7faffc0b19d8>)\n",
      "DEBUG: Function arguments: (), keyword arguments {'name': 'Simon'})\n",
      "DEBUG: function output: 'hello world, simon', (type <class 'str'>)\n"
     ]
    },
    {
     "data": {
      "text/plain": [
       "'hello world, simon'"
      ]
     },
     "execution_count": 11,
     "metadata": {},
     "output_type": "execute_result"
    }
   ],
   "source": [
    "@debug  # <- Specify a decorator name here\n",
    "def greet(name):\n",
    "    return f\"Hello world, {name}\"\n",
    "    \n",
    "    \n",
    "greet(name=\"Simon\")"
   ]
  },
  {
   "cell_type": "markdown",
   "metadata": {
    "slideshow": {
     "slide_type": "subslide"
    }
   },
   "source": [
    "## Functions as arguments"
   ]
  },
  {
   "cell_type": "markdown",
   "metadata": {},
   "source": [
    "Like all objects, functions can be arguments to functions"
   ]
  },
  {
   "cell_type": "code",
   "execution_count": 12,
   "metadata": {},
   "outputs": [],
   "source": [
    "def add(x,y):\n",
    "    return x+y\n",
    "\n",
    "def sub(x, y):\n",
    "    return x-y\n",
    "\n",
    "def apply(func, x, y):\n",
    "    return func(x, y)"
   ]
  },
  {
   "cell_type": "code",
   "execution_count": 13,
   "metadata": {},
   "outputs": [
    {
     "data": {
      "text/plain": [
       "3"
      ]
     },
     "execution_count": 13,
     "metadata": {},
     "output_type": "execute_result"
    }
   ],
   "source": [
    "apply(add, 1, 2)"
   ]
  },
  {
   "cell_type": "code",
   "execution_count": 14,
   "metadata": {},
   "outputs": [
    {
     "data": {
      "text/plain": [
       "2"
      ]
     },
     "execution_count": 14,
     "metadata": {},
     "output_type": "execute_result"
    }
   ],
   "source": [
    "apply(sub, 7, 5)"
   ]
  },
  {
   "cell_type": "markdown",
   "metadata": {
    "slideshow": {
     "slide_type": "subslide"
    }
   },
   "source": [
    "## Functions inside functions"
   ]
  },
  {
   "cell_type": "markdown",
   "metadata": {},
   "source": [
    "Python allows nested function definitions:"
   ]
  },
  {
   "cell_type": "code",
   "execution_count": 15,
   "metadata": {},
   "outputs": [
    {
     "data": {
      "text/plain": [
       "384"
      ]
     },
     "execution_count": 15,
     "metadata": {},
     "output_type": "execute_result"
    }
   ],
   "source": [
    "def g(x, y):\n",
    "    \n",
    "    def cube(x):\n",
    "        return x*x*x\n",
    "    \n",
    "    return y*cube(x)\n",
    "\n",
    "g(4, 6) "
   ]
  },
  {
   "cell_type": "markdown",
   "metadata": {
    "slideshow": {
     "slide_type": "subslide"
    }
   },
   "source": [
    "## Function returning functions"
   ]
  },
  {
   "cell_type": "code",
   "execution_count": 16,
   "metadata": {},
   "outputs": [
    {
     "data": {
      "text/plain": [
       "<function __main__.h.<locals>.inner_h()>"
      ]
     },
     "execution_count": 16,
     "metadata": {},
     "output_type": "execute_result"
    }
   ],
   "source": [
    "def h():\n",
    "    pi = 0.13\n",
    "    def inner_h():\n",
    "        print(\"Inside inner_h but can access pi={}\".format(pi))\n",
    "        \n",
    "    return inner_h\n",
    "\n",
    "foo = h()\n",
    "foo"
   ]
  },
  {
   "cell_type": "code",
   "execution_count": 17,
   "metadata": {},
   "outputs": [
    {
     "name": "stdout",
     "output_type": "stream",
     "text": [
      "Inside inner_h but can access pi=0.13\n"
     ]
    }
   ],
   "source": [
    "foo()"
   ]
  },
  {
   "cell_type": "markdown",
   "metadata": {
    "slideshow": {
     "slide_type": "subslide"
    }
   },
   "source": [
    "## More functions returning functions: *decorators*"
   ]
  },
  {
   "cell_type": "markdown",
   "metadata": {},
   "source": [
    "A toy example"
   ]
  },
  {
   "cell_type": "code",
   "execution_count": 23,
   "metadata": {},
   "outputs": [],
   "source": [
    "def foo():\n",
    "    return 1\n",
    "\n",
    "def outer(func):\n",
    "    def inner():\n",
    "        print(\"before calling func\")\n",
    "        return func() + 100\n",
    "    return inner"
   ]
  },
  {
   "cell_type": "code",
   "execution_count": 24,
   "metadata": {},
   "outputs": [],
   "source": [
    "decorated = outer(foo)"
   ]
  },
  {
   "cell_type": "markdown",
   "metadata": {},
   "source": [
    "The function `decorated` is a decorated version of function `foo`.\n",
    "It is `foo` plus something more:"
   ]
  },
  {
   "cell_type": "code",
   "execution_count": 25,
   "metadata": {},
   "outputs": [
    {
     "name": "stdout",
     "output_type": "stream",
     "text": [
      "before calling func\n"
     ]
    },
    {
     "data": {
      "text/plain": [
       "101"
      ]
     },
     "execution_count": 25,
     "metadata": {},
     "output_type": "execute_result"
    }
   ],
   "source": [
    "decorated()"
   ]
  },
  {
   "cell_type": "markdown",
   "metadata": {},
   "source": [
    "To simplify, we could just write\n",
    "```python \n",
    "foo = outer(foo)\n",
    "```\n",
    "to replace foo with its decorated version each time it is called"
   ]
  },
  {
   "cell_type": "markdown",
   "metadata": {
    "slideshow": {
     "slide_type": "subslide"
    }
   },
   "source": [
    "## A (slightly) more useful decorator"
   ]
  },
  {
   "cell_type": "markdown",
   "metadata": {},
   "source": [
    "Suppose we have been given a function that only works for some numerical inputs:"
   ]
  },
  {
   "cell_type": "code",
   "execution_count": 27,
   "metadata": {},
   "outputs": [],
   "source": [
    "from math import log\n",
    "def f(x):\n",
    "    return log(x) - 2  # Not defined for x<=0"
   ]
  },
  {
   "cell_type": "code",
   "execution_count": 28,
   "metadata": {},
   "outputs": [
    {
     "data": {
      "text/plain": [
       "-0.3905620875658997"
      ]
     },
     "execution_count": 28,
     "metadata": {},
     "output_type": "execute_result"
    }
   ],
   "source": [
    "f(5)"
   ]
  },
  {
   "cell_type": "code",
   "execution_count": 29,
   "metadata": {
    "collapsed": true
   },
   "outputs": [
    {
     "ename": "ValueError",
     "evalue": "math domain error",
     "output_type": "error",
     "traceback": [
      "\u001b[0;31m---------------------------------------------------------------------------\u001b[0m",
      "\u001b[0;31mValueError\u001b[0m                                Traceback (most recent call last)",
      "\u001b[0;32m<ipython-input-29-8e6746a6b70d>\u001b[0m in \u001b[0;36m<module>\u001b[0;34m\u001b[0m\n\u001b[0;32m----> 1\u001b[0;31m \u001b[0mf\u001b[0m\u001b[0;34m(\u001b[0m\u001b[0;34m-\u001b[0m\u001b[0;36m1\u001b[0m\u001b[0;34m)\u001b[0m\u001b[0;34m\u001b[0m\u001b[0;34m\u001b[0m\u001b[0m\n\u001b[0m",
      "\u001b[0;32m<ipython-input-27-10a365a4c7a8>\u001b[0m in \u001b[0;36mf\u001b[0;34m(x)\u001b[0m\n\u001b[1;32m      1\u001b[0m \u001b[0;32mfrom\u001b[0m \u001b[0mmath\u001b[0m \u001b[0;32mimport\u001b[0m \u001b[0mlog\u001b[0m\u001b[0;34m\u001b[0m\u001b[0;34m\u001b[0m\u001b[0m\n\u001b[1;32m      2\u001b[0m \u001b[0;32mdef\u001b[0m \u001b[0mf\u001b[0m\u001b[0;34m(\u001b[0m\u001b[0mx\u001b[0m\u001b[0;34m)\u001b[0m\u001b[0;34m:\u001b[0m\u001b[0;34m\u001b[0m\u001b[0;34m\u001b[0m\u001b[0m\n\u001b[0;32m----> 3\u001b[0;31m     \u001b[0;32mreturn\u001b[0m \u001b[0mlog\u001b[0m\u001b[0;34m(\u001b[0m\u001b[0mx\u001b[0m\u001b[0;34m)\u001b[0m \u001b[0;34m-\u001b[0m \u001b[0;36m2\u001b[0m  \u001b[0;31m# Not defined for x<=0\u001b[0m\u001b[0;34m\u001b[0m\u001b[0;34m\u001b[0m\u001b[0m\n\u001b[0m",
      "\u001b[0;31mValueError\u001b[0m: math domain error"
     ]
    }
   ],
   "source": [
    "f(-1)"
   ]
  },
  {
   "cell_type": "markdown",
   "metadata": {},
   "source": [
    "Suppose we want to limit the range of values sent to this function:"
   ]
  },
  {
   "cell_type": "markdown",
   "metadata": {},
   "source": [
    "The idea is that we **wrap** the function inside another function:"
   ]
  },
  {
   "cell_type": "code",
   "execution_count": 30,
   "metadata": {},
   "outputs": [],
   "source": [
    "def checkrange(func):\n",
    "    def inner(x):\n",
    "        if x <= 0:\n",
    "            print(f\"Error: x must be larger zero\")\n",
    "        else:\n",
    "            return func(x)\n",
    "    return inner"
   ]
  },
  {
   "cell_type": "code",
   "execution_count": 31,
   "metadata": {},
   "outputs": [
    {
     "data": {
      "text/plain": [
       "-0.3905620875658997"
      ]
     },
     "execution_count": 31,
     "metadata": {},
     "output_type": "execute_result"
    }
   ],
   "source": [
    "f_safe = checkrange(f)\n",
    "f_safe(5)"
   ]
  },
  {
   "cell_type": "code",
   "execution_count": 32,
   "metadata": {},
   "outputs": [
    {
     "name": "stdout",
     "output_type": "stream",
     "text": [
      "Error: x must be larger zero\n"
     ]
    }
   ],
   "source": [
    "f_safe(-1)"
   ]
  },
  {
   "cell_type": "markdown",
   "metadata": {},
   "source": [
    "Voilà!!"
   ]
  },
  {
   "cell_type": "markdown",
   "metadata": {
    "slideshow": {
     "slide_type": "subslide"
    }
   },
   "source": [
    "## The `@decorator` syntax"
   ]
  },
  {
   "cell_type": "markdown",
   "metadata": {},
   "source": [
    "Python provides a short notation for decorating a function with\n",
    "another function:"
   ]
  },
  {
   "cell_type": "code",
   "execution_count": 35,
   "metadata": {},
   "outputs": [],
   "source": [
    "@checkrange\n",
    "def g(x):\n",
    "    return log(x) - 2"
   ]
  },
  {
   "cell_type": "code",
   "execution_count": 36,
   "metadata": {},
   "outputs": [
    {
     "name": "stdout",
     "output_type": "stream",
     "text": [
      "Error: x must be larger zero\n"
     ]
    }
   ],
   "source": [
    "g(0)"
   ]
  },
  {
   "cell_type": "markdown",
   "metadata": {},
   "source": [
    "This is essentially the same as writing `g = checkrange(g)`."
   ]
  },
  {
   "cell_type": "markdown",
   "metadata": {},
   "source": [
    "A decorator is simply a function taking another function as input\n",
    "and returning another function. \n",
    "\n",
    "The syntax `@decorator` is a\n",
    "short-cut for the more explicit `f = decorator(f)`."
   ]
  },
  {
   "cell_type": "markdown",
   "metadata": {
    "slideshow": {
     "slide_type": "subslide"
    }
   },
   "source": [
    "## A (much) more useful decorator: memoization"
   ]
  },
  {
   "cell_type": "markdown",
   "metadata": {},
   "source": [
    "Assume we have a slow function. Something like"
   ]
  },
  {
   "cell_type": "code",
   "execution_count": 37,
   "metadata": {},
   "outputs": [],
   "source": [
    "from time import sleep\n",
    "\n",
    "def slow_mult(x, y):\n",
    "    sleep(1)     # Simulate a long computation\n",
    "    return x*y"
   ]
  },
  {
   "cell_type": "code",
   "execution_count": 39,
   "metadata": {},
   "outputs": [
    {
     "name": "stdout",
     "output_type": "stream",
     "text": [
      "1 s ± 65.7 µs per loop (mean ± std. dev. of 7 runs, 1 loop each)\n"
     ]
    }
   ],
   "source": [
    "%timeit slow_mult(1, 2)"
   ]
  },
  {
   "cell_type": "markdown",
   "metadata": {},
   "source": [
    "We call the function with the same input arguments, and hence perform the same (slow) calculations multiple times."
   ]
  },
  {
   "cell_type": "markdown",
   "metadata": {},
   "source": [
    "The idea of memoization (or buffering) is to buffer the input-output pairs for which the function was called.\n",
    "If the function is called twice with same input arguments, we return the buffer value."
   ]
  },
  {
   "cell_type": "markdown",
   "metadata": {},
   "source": [
    "The implementation of a memoization with a `decorator` could look like:"
   ]
  },
  {
   "cell_type": "code",
   "execution_count": 49,
   "metadata": {},
   "outputs": [],
   "source": [
    "\n",
    "def memoize(func):\n",
    "    ''' Caches a function's return value each time it is called.\n",
    "        If called later with the same arguments, the cached value is returned\n",
    "        (not reevaluated). '''\n",
    "    cache = {}  # Stores all input-output pairs\n",
    "\n",
    "    def inner(x, y):\n",
    "        if (x, y) in cache:\n",
    "            return cache[(x, y)]\n",
    "        else:\n",
    "            result = func(x, y)\n",
    "            cache[(x, y)] = result\n",
    "            return result\n",
    "        \n",
    "    return inner"
   ]
  },
  {
   "cell_type": "markdown",
   "metadata": {},
   "source": [
    "Now we can apply the decorator to our slow function"
   ]
  },
  {
   "cell_type": "code",
   "execution_count": 54,
   "metadata": {},
   "outputs": [],
   "source": [
    "@memoize\n",
    "def slow_mult(x, y):\n",
    "    print(\"Thinking...\")\n",
    "    sleep(1)     # Simulate a long computation\n",
    "    return x*y\n",
    "\n",
    "@memoize\n",
    "def slow_add(x, y):\n",
    "    print(\"Thinking...\")\n",
    "    sleep(1)     # Simulate a long computation\n",
    "    return x+y"
   ]
  },
  {
   "cell_type": "markdown",
   "metadata": {},
   "source": [
    "... and test it out"
   ]
  },
  {
   "cell_type": "code",
   "execution_count": 59,
   "metadata": {},
   "outputs": [
    {
     "data": {
      "text/plain": [
       "18"
      ]
     },
     "execution_count": 59,
     "metadata": {},
     "output_type": "execute_result"
    }
   ],
   "source": [
    "slow_mult(3, 6)"
   ]
  },
  {
   "cell_type": "markdown",
   "metadata": {
    "slideshow": {
     "slide_type": "subslide"
    }
   },
   "source": [
    "## Decorator summary "
   ]
  },
  {
   "cell_type": "markdown",
   "metadata": {},
   "source": [
    "* A function that takes a function as argument and returns a modified function\n",
    "* `@decorator` syntax simply a short cut for the standard function call `f = decorator(f)`."
   ]
  },
  {
   "cell_type": "markdown",
   "metadata": {
    "slideshow": {
     "slide_type": "slide"
    }
   },
   "source": [
    "## PEP8: How to write more Pythonic code\n",
    "\n",
    "Clear and consistent style is critical for writing \"good code\".\n",
    "\n",
    "* Python comes with an extensive programming style guidline: **PEP8**.\n",
    "* It consists of a list of do's and dont's for writing Python.\n",
    "* Get familiar with the conventions once, and you will automatically start using them.\n",
    "* I will give you some examples below"
   ]
  },
  {
   "cell_type": "markdown",
   "metadata": {
    "slideshow": {
     "slide_type": "subslide"
    }
   },
   "source": [
    "### Guide to Pythonic code: Bindary operations\n",
    "\n",
    "* Add whitespaces around bindary mathematical operations:\n",
    "\n",
    "```python\n",
    "# Do:\n",
    "x = x + 1\n",
    "\n",
    "# Don't:\n",
    "x=x+1\n",
    "```\n"
   ]
  },
  {
   "cell_type": "markdown",
   "metadata": {
    "slideshow": {
     "slide_type": "subslide"
    }
   },
   "source": [
    "### Guide to Pythonic code: Naming conventions \n",
    "\n",
    "\n",
    "* For **variables**:\n",
    "\n",
    "```python\n",
    "# Do\n",
    "shopping_list = [\"Bananas\", \"Apples\"]\n",
    "gravity_acceleration = 9.81\n",
    "# Don't\n",
    "ListOfStudents = [\"Bananas\", \"Apples\"]\n",
    "GRAVITYACCELERATION = 9.91  \n",
    "```\n",
    "\n",
    "* For **functions**:\n",
    "    \n",
    "```python\n",
    "def order_items(image):\n",
    "    pass\n",
    "```\n",
    "\n",
    "* For **classes**:\n",
    "\n",
    "```python\n",
    "# Do:\n",
    "class ElectricCar:\n",
    "    pass\n",
    "\n",
    "# Don't:\n",
    "class electriccar:\n",
    "    pass\n",
    "```\n"
   ]
  },
  {
   "cell_type": "markdown",
   "metadata": {
    "slideshow": {
     "slide_type": "subslide"
    }
   },
   "source": [
    "### Guide to Pythonic code: Indentations and spacing\n",
    "\n",
    "\n",
    "* Aways use **four** white spaces when indenting (set your editor accordingly):\n",
    "\n",
    "```python\n",
    "# Do\n",
    "def order_items(image):\n",
    "    pass  # Four whitespaces\n",
    "\n",
    "\n",
    "# Don't \n",
    "def order_items(image):\n",
    "  pass    # Not four whitespaces\n",
    "```\n",
    "\n",
    "* Break long lines \"nicely\":\n",
    "\n",
    "```python\n",
    "# Do:\n",
    "shopping_list = {\"Apple\": 2, \"Banana\": 10, \"Chocolate\": 1,\n",
    "                 \"Toothpaste\": 1, \"Shampoo\": 2}\n",
    "\n",
    "# Don't: second line is under-indented\n",
    "shopping_list = {\"Apple\": 2, \"Banana\": 10, \"Chocolate\": 1, \"Toothpaste\": 1, \"Shampoo\": 2}\n",
    "```"
   ]
  },
  {
   "cell_type": "markdown",
   "metadata": {},
   "source": [
    "### Guide to Pythonic code: flake8\n",
    "\n",
    "You can use the flake8 command to verify that your code follows the PEP convention.\n",
    "\n",
    "**Demo** on shopping.py"
   ]
  }
 ],
 "metadata": {
  "celltoolbar": "Slideshow",
  "kernelspec": {
   "display_name": "Python 3",
   "language": "python",
   "name": "python3"
  },
  "language_info": {
   "codemirror_mode": {
    "name": "ipython",
    "version": 3
   },
   "file_extension": ".py",
   "mimetype": "text/x-python",
   "name": "python",
   "nbconvert_exporter": "python",
   "pygments_lexer": "ipython3",
   "version": "3.8.5"
  }
 },
 "nbformat": 4,
 "nbformat_minor": 1
}
