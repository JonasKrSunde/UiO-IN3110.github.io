{
 "cells": [
  {
   "cell_type": "code",
   "execution_count": 91,
   "metadata": {},
   "outputs": [],
   "source": [
    "import requests\n",
    "from bs4 import BeautifulSoup\n",
    "\n",
    "result = requests.get(\"thttps://www.w3schools.com/html/tryit.asp?filename=tryhtml_lists_intro\")\n",
    "src = result.content\n",
    "\n",
    "soup = BeautifulSoup(src, 'lxml')"
   ]
  },
  {
   "cell_type": "code",
   "execution_count": 76,
   "metadata": {},
   "outputs": [],
   "source": [
    "lists = soup.find(\"ul\")"
   ]
  },
  {
   "cell_type": "code",
   "execution_count": 77,
   "metadata": {},
   "outputs": [
    {
     "name": "stdout",
     "output_type": "stream",
     "text": [
      "<ul>\r\n",
      "  <li>Coffee</li>\r\n",
      "  <li>Tea</li>\r\n",
      "  <li>Milk</li>\r\n",
      "</ul>\n"
     ]
    }
   ],
   "source": [
    "print(lists)"
   ]
  },
  {
   "cell_type": "code",
   "execution_count": 85,
   "metadata": {},
   "outputs": [
    {
     "data": {
      "text/plain": [
       "[<li>Coffee</li>, <li>Tea</li>, <li>Milk</li>]"
      ]
     },
     "execution_count": 85,
     "metadata": {},
     "output_type": "execute_result"
    }
   ],
   "source": [
    "items = lists.find_all(\"li\")\n",
    "items"
   ]
  },
  {
   "cell_type": "code",
   "execution_count": 90,
   "metadata": {},
   "outputs": [
    {
     "name": "stdout",
     "output_type": "stream",
     "text": [
      "Coffee\n",
      "Tea\n",
      "Milk\n"
     ]
    }
   ],
   "source": [
    "for item in items:\n",
    "    print(item.get_text())"
   ]
  },
  {
   "cell_type": "code",
   "execution_count": null,
   "metadata": {},
   "outputs": [],
   "source": []
  },
  {
   "cell_type": "code",
   "execution_count": 30,
   "metadata": {},
   "outputs": [],
   "source": [
    "soup.find?"
   ]
  },
  {
   "cell_type": "code",
   "execution_count": 39,
   "metadata": {
    "scrolled": true
   },
   "outputs": [
    {
     "data": {
      "text/plain": [
       "<tr>\n",
       "<th data-sort-type=\"number\">Rank</th>\n",
       "<th>Country<br/>(or dependent territory)</th>\n",
       "<th>Population</th>\n",
       "<th>% of world</th>\n",
       "<th>Date</th>\n",
       "<th class=\"unsortable\">Source<br/>(official or UN)\n",
       "</th></tr>"
      ]
     },
     "execution_count": 39,
     "metadata": {},
     "output_type": "execute_result"
    }
   ],
   "source": [
    "rows[0]"
   ]
  },
  {
   "cell_type": "markdown",
   "metadata": {},
   "source": [
    "# Downloading a table from Wikipedia\n",
    "\n",
    "We aim to get a list of countries sorted by their population size:\n",
    "https://en.wikipedia.org/wiki/List_of_countries_and_dependencies_by_population"
   ]
  },
  {
   "cell_type": "code",
   "execution_count": 145,
   "metadata": {},
   "outputs": [],
   "source": [
    "import requests\n",
    "from bs4 import BeautifulSoup\n",
    "import re\n",
    "import dateutil\n",
    "\n",
    "result = requests.get(\"https://en.wikipedia.org/wiki/List_of_countries_and_dependencies_by_population\")\n",
    "src = result.content\n",
    "\n",
    "\n",
    "soup = BeautifulSoup(src, 'lxml')"
   ]
  },
  {
   "cell_type": "code",
   "execution_count": 146,
   "metadata": {},
   "outputs": [],
   "source": [
    "r = soup.find_all(\"table\")"
   ]
  },
  {
   "cell_type": "code",
   "execution_count": 147,
   "metadata": {},
   "outputs": [],
   "source": [
    "# Make sure that the table contains the Rank column\n",
    "assert \"Rank\" in str(r[0])"
   ]
  },
  {
   "cell_type": "code",
   "execution_count": 148,
   "metadata": {},
   "outputs": [],
   "source": [
    "table = r[0]"
   ]
  },
  {
   "cell_type": "code",
   "execution_count": 165,
   "metadata": {},
   "outputs": [
    {
     "name": "stdout",
     "output_type": "stream",
     "text": [
      "['1', 'China', 1404832520, 18.0, 3]\n",
      "['2', 'India', 1368306995, 17.5, 4]\n",
      "['3', 'United States', 330459799, 4.23, 5]\n",
      "['4', 'Indonesia', 269603400, 3.45, 6]\n",
      "['5', 'Pakistan', 220892331, 2.82, 2]\n",
      "['6', 'Brazil', 212188422, 2.71, 7]\n",
      "['7', 'Nigeria', 206139587, 2.64, 2]\n",
      "['8', 'Bangladesh', 169457738, 2.17, 8]\n",
      "['9', 'Russia', 146748590, 1.88, 9]\n",
      "['10', 'Mexico', 127792286, 1.63, 10]\n",
      "['11', 'Japan', 125810000, 1.61, 11]\n",
      "['12', 'Philippines', 109284207, 1.4, 12]\n",
      "['13', 'DR Congo', 101935800, 1.3, 13]\n",
      "['14', 'Egypt', 101036828, 1.29, 14]\n",
      "['15', 'Ethiopia', 100829000, 1.29, 15]\n",
      "['16', 'Vietnam', 96484000, 1.23, 16]\n",
      "['17', 'Iran', 83857606, 1.07, 17]\n",
      "['18', 'Turkey', 83154997, 1.06, 18]\n",
      "['19', 'Germany', 83122889, 1.06, 19]\n",
      "['20', 'France', 67132000, 0.859, 20]\n",
      "['21', 'United Kingdom', 66796807, 0.854, 21]\n",
      "['22', 'Thailand', 66563392, 0.851, 22]\n",
      "['23', 'Italy', 60062012, 0.768, 23]\n",
      "['24', 'South Africa', 59622350, 0.762, 24]\n",
      "['25', 'Tanzania', 57637628, 0.737, 25]\n",
      "['26', 'Myanmar', 54817919, 0.701, 26]\n",
      "['27', 'South Korea', 51841786, 0.663, 27]\n",
      "['28', 'Colombia', 50372424, 0.644, 28]\n",
      "['29', 'Kenya', 47564296, 0.608, 29]\n",
      "['30', 'Spain', 47329981, 0.605, 30]\n",
      "['31', 'Argentina', 45376763, 0.58, 31]\n",
      "['32', 'Algeria', 43900000, 0.561, 32]\n",
      "['33', 'Sudan', 42901695, 0.549, 33]\n",
      "['34', 'Ukraine', 41743935, 0.534, 34]\n",
      "['35', 'Uganda', 41583600, 0.532, 35]\n",
      "['36', 'Iraq', 40150200, 0.513, 36]\n",
      "['37', 'Poland', 38353000, 0.49, 37]\n",
      "['38', 'Canada', 38204845, 0.489, 38]\n",
      "['39', 'Morocco', 36042813, 0.461, 39]\n",
      "['40', 'Uzbekistan', 34462545, 0.441, 40]\n",
      "['41', 'Saudi Arabia', 34218169, 0.438, 41]\n",
      "['42', 'Afghanistan', 32890171, 0.421, 42]\n",
      "['43', 'Malaysia', 32695410, 0.418, 43]\n",
      "['44', 'Peru', 32625948, 0.417, 44]\n",
      "['45', 'Angola', 31127674, 0.398, 45]\n",
      "['46', 'Ghana', 30955202, 0.396, 46]\n",
      "['47', 'Mozambique', 30066648, 0.385, 47]\n",
      "['48', 'Nepal', 29996478, 0.384, 48]\n",
      "['49', 'Yemen', 29825968, 0.381, 2]\n",
      "['50', 'Venezuela', 28435943, 0.364, 2]\n",
      "['51', 'Ivory Coast', 26453542, 0.338, 49]\n",
      "['52', 'Madagascar', 26251309, 0.336, 50]\n",
      "['53', 'Australia', 25679058, 0.328, 51]\n",
      "['54', 'North Korea', 25550000, 0.327, 52]\n",
      "['55', 'Cameroon', 24348251, 0.311, 53]\n",
      "['–', 'Taiwan', 23574334, 0.301, 54]\n",
      "['56', 'Niger', 23196002, 0.297, 55]\n",
      "['57', 'Sri Lanka', 21803000, 0.279, 56]\n",
      "['58', 'Burkina Faso', 21510181, 0.275, 57]\n",
      "['59', 'Mali', 20250833, 0.259, 58]\n",
      "['60', 'Chile', 19458310, 0.249, 59]\n",
      "['61', 'Romania', 19317984, 0.247, 60]\n",
      "['62', 'Malawi', 19129952, 0.245, 2]\n",
      "['63', 'Kazakhstan', 18793360, 0.24, 61]\n",
      "['64', 'Zambia', 17885422, 0.229, 62]\n",
      "['65', 'Ecuador', 17587192, 0.225, 63]\n",
      "['66', 'Netherlands', 17518581, 0.224, 64]\n",
      "['67', 'Syria', 17500657, 0.224, 2]\n",
      "['68', 'Guatemala', 16858333, 0.216, 65]\n",
      "['69', 'Senegal', 16705608, 0.214, 66]\n",
      "['70', 'Chad', 16244513, 0.208, 67]\n",
      "['71', 'Somalia', 15893219, 0.203, 2]\n",
      "['72', 'Zimbabwe', 15473818, 0.198, 68]\n",
      "['73', 'Cambodia', 15288489, 0.196, 69]\n",
      "['74', 'South Sudan', 13249924, 0.169, 70]\n",
      "['75', 'Rwanda', 12663116, 0.162, 71]\n",
      "['76', 'Guinea', 12559623, 0.161, 72]\n",
      "['77', 'Burundi', 12309600, 0.157, 73]\n",
      "['78', 'Benin', 12114193, 0.155, 74]\n",
      "['79', 'Haiti', 11743017, 0.15, 75]\n",
      "['80', 'Tunisia', 11708370, 0.15, 76]\n",
      "['81', 'Bolivia', 11633371, 0.149, 77]\n",
      "['82', 'Belgium', 11535652, 0.148, 78]\n",
      "['83', 'Cuba', 11193470, 0.143, 79]\n",
      "['84', 'Jordan', 10789128, 0.138, 80]\n",
      "['85', 'Greece', 10724599, 0.137, 81]\n",
      "['86', 'Czech Republic', 10699142, 0.137, 82]\n",
      "['87', 'Dominican Republic', 10448499, 0.134, 83]\n",
      "['88', 'Sweden', 10367232, 0.133, 84]\n",
      "['89', 'Portugal', 10295909, 0.132, 85]\n",
      "['90', 'Azerbaijan', 10095900, 0.129, 86]\n",
      "['91', 'Hungary', 9769526, 0.125, 87]\n",
      "['92', 'Belarus', 9408400, 0.12, 88]\n",
      "['93', 'United Arab Emirates', 9366829, 0.12, 89]\n",
      "['94', 'Tajikistan', 9313800, 0.119, 90]\n",
      "['95', 'Honduras', 9304380, 0.119, 91]\n",
      "['96', 'Israel', 9262200, 0.118, 92]\n",
      "['97', 'Papua New Guinea', 8935000, 0.114, 93]\n",
      "['98', 'Austria', 8915382, 0.114, 94]\n",
      "['99', 'Switzerland', 8632703, 0.11, 95]\n",
      "['100', 'Sierra Leone', 8100318, 0.104, 96]\n",
      "['101', 'Togo', 7706000, 0.0986, 97]\n",
      "['–', 'Hong Kong (China)', 7509200, 0.096, 98]\n",
      "['102', 'Paraguay', 7252672, 0.0928, 99]\n",
      "['103', 'Laos', 7231210, 0.0925, 100]\n",
      "['104', 'Bulgaria', 6951482, 0.0889, 101]\n",
      "['105', 'Serbia', 6926705, 0.0886, 102]\n",
      "['106', 'Libya', 6871287, 0.0879, 2]\n",
      "['107', 'Lebanon', 6825442, 0.0873, 2]\n",
      "['108', 'El Salvador', 6765753, 0.0865, 103]\n",
      "['109', 'Kyrgyzstan', 6586600, 0.0842, 104]\n",
      "['110', 'Nicaragua', 6527691, 0.0835, 105]\n",
      "['111', 'Turkmenistan', 6031187, 0.0771, 2]\n",
      "['112', 'Denmark', 5825337, 0.0745, 106]\n",
      "['113', 'Singapore', 5685807, 0.0727, 107]\n",
      "['114', 'Central African Republic', 5633412, 0.072, 108]\n",
      "['115', 'Congo', 5518092, 0.0706, 2]\n",
      "['116', 'Finland', 5502259, 0.0704, 109]\n",
      "['117', 'Slovakia', 5460136, 0.0698, 110]\n",
      "['118', 'Norway', 5374807, 0.0687, 111]\n",
      "['119', 'Costa Rica', 5111238, 0.0654, 112]\n",
      "['120', 'Palestine', 5101152, 0.0652, 113]\n",
      "['121', 'New Zealand', 5092745, 0.0651, 114]\n",
      "['122', 'Ireland', 4977400, 0.0637, 115]\n",
      "['123', 'Liberia', 4568298, 0.0584, 116]\n",
      "['124', 'Oman', 4480333, 0.0573, 117]\n",
      "['125', 'Kuwait', 4464521, 0.0571, 118]\n",
      "['126', 'Panama', 4278500, 0.0547, 119]\n",
      "['127', 'Mauritania', 4173077, 0.0534, 120]\n",
      "['128', 'Croatia', 4058165, 0.0519, 121]\n",
      "['129', 'Georgia', 3716858, 0.0475, 122]\n",
      "['130', 'Eritrea', 3546000, 0.0453, 2]\n",
      "['131', 'Uruguay', 3530912, 0.0452, 123]\n",
      "['132', 'Mongolia', 3342223, 0.0427, 124]\n",
      "['133', 'Bosnia and Herzegovina', 3332593, 0.0426, 125]\n",
      "['–', 'Puerto Rico (US)', 3193694, 0.0408, 127]\n",
      "['134', 'Armenia', 2963000, 0.0379, 128]\n",
      "['135', 'Albania', 2845955, 0.0364, 129]\n",
      "['136', 'Lithuania', 2795334, 0.0357, 130]\n",
      "['137', 'Jamaica', 2726667, 0.0349, 131]\n",
      "['138', 'Qatar', 2723624, 0.0348, 132]\n",
      "['139', 'Moldova', 2640438, 0.0338, 133]\n",
      "['140', 'Namibia', 2504498, 0.032, 134]\n",
      "['141', 'Botswana', 2374698, 0.0304, 135]\n",
      "['142', 'Gambia', 2335504, 0.0299, 136]\n",
      "['143', 'Gabon', 2176766, 0.0278, 137]\n",
      "['144', 'Slovenia', 2097195, 0.0268, 138]\n",
      "['145', 'North Macedonia', 2076255, 0.0266, 139]\n",
      "['146', 'Lesotho', 2007201, 0.0257, 140]\n",
      "['147', 'Latvia', 1899200, 0.0243, 141]\n",
      "['–', 'Kosovo', 1782115, 0.0228, 142]\n",
      "['148', 'Guinea', 1624945, 0.0208, 143]\n",
      "['149', 'Bahrain', 1503091, 0.0192, 144]\n",
      "['150', 'Equatorial Guinea', 1454789, 0.0186, 145]\n",
      "['151', 'Trinidad and Tobago', 1363985, 0.0174, 146]\n",
      "['152', 'Estonia', 1328976, 0.017, 147]\n",
      "['153', 'East Timor', 1299412, 0.0166, 148]\n",
      "['154', 'Mauritius', 1266000, 0.0162, 149]\n",
      "['155', 'Eswatini', 1093238, 0.014, 150]\n",
      "['156', 'Djibouti', 962452, 0.0123, 151]\n",
      "['157', 'Fiji', 889327, 0.0114, 152]\n",
      "['158', 'Cyprus', 875900, 0.0112, 153]\n",
      "['159', 'Comoros', 758316, 0.0097, 154]\n",
      "['160', 'Bhutan', 748931, 0.00958, 155]\n",
      "['161', 'Guyana', 744962, 0.00953, 156]\n",
      "['162', 'Solomon Islands', 694619, 0.00888, 157]\n",
      "['–', 'Macau (China)', 685400, 0.00877, 158]\n",
      "['163', 'Luxembourg', 626108, 0.00801, 159]\n",
      "['164', 'Montenegro', 621873, 0.00795, 160]\n",
      "['–', 'Western Sahara', 597000, 0.00763, 2]\n",
      "['165', 'Suriname', 590100, 0.00755, 161]\n",
      "['166', 'Cape Verde', 556857, 0.00712, 162]\n",
      "['167', 'Malta', 514564, 0.00658, 163]\n",
      "['–', 'Transnistria', 469000, 0.006, 164]\n",
      "['168', 'Brunei', 459500, 0.00588, 165]\n",
      "['169', 'Belize', 419199, 0.00536, 166]\n",
      "['170', 'Bahamas', 389410, 0.00498, 167]\n",
      "['171', 'Maldives', 383135, 0.0049, 168]\n",
      "['172', 'Iceland', 366700, 0.00469, 169]\n",
      "['—', 'Northern Cyprus', 351965, 0.0045, 170]\n",
      "['173', 'Vanuatu', 304500, 0.00389, 93]\n",
      "['174', 'Barbados', 287025, 0.00367, 2]\n",
      "['–', 'French Polynesia (France)', 278400, 0.00356, 171]\n",
      "['–', 'New Caledonia (France)', 271407, 0.00347, 172]\n",
      "['–', 'Abkhazia', 245246, 0.00314, 173]\n",
      "['175', 'São Tomé and Príncipe', 210240, 0.00269, 174]\n",
      "['176', 'Samoa', 202506, 0.00259, 175]\n",
      "['177', 'Saint Lucia', 178696, 0.00229, 176]\n",
      "['–', 'Guam (US)', 172400, 0.0022, 93]\n",
      "['–', 'Curaçao (Netherlands)', 156223, 0.002, 177]\n",
      "['–', 'Republic of Artsakh', 148800, 0.0019, 178]\n",
      "['178', 'Kiribati', 120100, 0.00154, 93]\n",
      "['–', 'Aruba (Netherlands)', 112269, 0.00144, 179]\n",
      "['179', 'Grenada', 112003, 0.00143, 2]\n",
      "['180', 'Saint Vincent and the Grenadines', 110696, 0.00142, 180]\n",
      "['–', 'Jersey (UK)', 107800, 0.00138, 181]\n",
      "['181', 'F', 104650, 0.00134, 182]\n",
      "['–', 'U', 104578, 0.00134, 2]\n",
      "['182', 'Tonga', 100651, 0.00129, 183]\n",
      "['183', 'Seychelles', 98462, 0.00126, 184]\n",
      "['184', 'Antigua and Barbuda', 97895, 0.00125, 185]\n",
      "['–', 'Isle of Man (UK)', 83314, 0.00107, 186]\n",
      "['185', 'Andorra', 77543, 0.000992, 187]\n",
      "['186', 'Dominica', 71808, 0.000918, 2]\n",
      "['–', 'Cayman Islands (UK)', 69914, 0.000894, 188]\n",
      "['–', 'Bermuda (UK)', 64054, 0.000819, 189]\n",
      "['–', 'Guernsey (UK)', 63276, 0.000809, 190]\n",
      "['–', 'American Samoa (US)', 56700, 0.000725, 93]\n",
      "['–', 'Greenland (Denmark)', 56367, 0.000721, 191]\n",
      "['–', 'Northern Mariana Islands (US)', 56200, 0.000719, 93]\n",
      "['187', 'Marshall Islands', 55500, 0.00071, 93]\n",
      "['–', 'South Ossetia', 53532, 0.000685, 192]\n",
      "['188', 'Saint Kitts and Nevis', 52823, 0.000676, 2]\n",
      "['–', 'Faroe Islands (Denmark)', 52816, 0.000675, 193]\n",
      "['–', 'Turks and Caicos Islands (UK)', 42953, 0.000549, 194]\n",
      "['–', 'Sint Maarten (Netherlands)', 40614, 0.000519, 195]\n",
      "['189', 'Liechtenstein', 38749, 0.000496, 196]\n",
      "['190', 'Monaco', 38100, 0.000487, 197]\n",
      "['–', 'Saint Martin (France)', 35334, 0.000457, 198]\n",
      "['–', 'Gibraltar (UK)', 33691, 0.000431, 2]\n",
      "['191', 'San Marino', 33630, 0.00043, 199]\n",
      "['–', 'Åland Islands (Finland)', 30074, 0.000385, 200]\n",
      "['–', 'British Virgin Islands (UK)', 30030, 0.000384, 2]\n",
      "['192', 'Palau', 17900, 0.000229, 93]\n",
      "['–', 'Cook Islands (NZ)', 15200, 0.000194, 93]\n",
      "['–', 'Anguilla (UK)', 14869, 0.00019, 2]\n",
      "['–', 'Wallis and Futuna (France)', 11558, 0.000148, 201]\n",
      "['193', 'Nauru', 11000, 0.000141, 93]\n",
      "['194', 'Tuvalu', 10507, 0.000134, 202]\n",
      "['–', 'Saint Barthélemy (France)', 9961, 0.000127, 203]\n",
      "['–', 'Saint Pierre and Miquelon (France)', 5997, 7.67e-05, 204]\n",
      "['–', 'Saint Helena', 5633, 7.2e-05, 205]\n",
      "['–', 'Montserrat (UK)', 4989, 6.38e-05, 2]\n",
      "['–', 'Falkland Islands (UK)', 3198, 4.09e-05, 206]\n",
      "['–', 'Christmas Island (Australia)', 1955, 2.5e-05, 207]\n",
      "['–', 'Niue (NZ)', 1784, 2.28e-05, 208]\n",
      "['–', 'Norfolk Island (Australia)', 1735, 2.22e-05, 207]\n",
      "['–', 'Tokelau (NZ)', 1499, 1.92e-05, 209]\n",
      "['195', 'Vatican City', 825, 1.06e-05, 210]\n",
      "['–', 'Cocos (Keeling) Islands (Australia)', 555, 7.1e-06, 207]\n",
      "['–', 'Pitcairn Islands (UK)', 50, 6.39e-07, 211]\n"
     ]
    }
   ],
   "source": [
    "rows = soup.find(\"table\").find(\"tbody\").find_all(\"tr\")\n",
    "\n",
    "countries = []\n",
    "\n",
    "for row in rows[1:-1]:\n",
    "    cells = row.find_all([\"td\", \"th\"])\n",
    "    \n",
    "    rank = cells[0].get_text().strip()  # remove any whitespaces before and after the rank\n",
    "    \n",
    "    country = cells[1].get_text().strip()\n",
    "    country_clean = re.findall(r'[\\w\\s()]+', country)[0]\n",
    "    \n",
    "    size = cells[2].get_text()\n",
    "    size_clean = int(re.sub(',', '', size))\n",
    "    \n",
    "    percentage = cells[3].get_text()\n",
    "    percentage = float(re.findall(r'[\\d\\.]+', percentage)[0])\n",
    "    \n",
    "    date = cells[4].get_text()\n",
    "    date = dateutil.parser.parse('2018-06-29 22:21:41')\n",
    "    \n",
    "    \n",
    "    source = cells[5].get_text().strip()\n",
    "    source_ref = int(re.findall(r'\\[(\\d+)\\]', source)[0])\n",
    "    \n",
    "    countries.append([rank, \n",
    "                      country_clean, \n",
    "                      size_clean, \n",
    "                      percentage, \n",
    "                      #date, \n",
    "                      source_ref])\n",
    "    \n",
    "for c in countries:\n",
    "    print(c)"
   ]
  },
  {
   "cell_type": "markdown",
   "metadata": {},
   "source": [
    "**Attention**: Beautiful Soup does not execute Javascript. This means that you the code in the Google Chrome inspector might look different to the original source code. "
   ]
  },
  {
   "cell_type": "code",
   "execution_count": 30,
   "metadata": {},
   "outputs": [],
   "source": [
    "soup.find?"
   ]
  },
  {
   "cell_type": "code",
   "execution_count": null,
   "metadata": {},
   "outputs": [],
   "source": []
  }
 ],
 "metadata": {
  "kernelspec": {
   "display_name": "Python 3",
   "language": "python",
   "name": "python3"
  },
  "language_info": {
   "codemirror_mode": {
    "name": "ipython",
    "version": 3
   },
   "file_extension": ".py",
   "mimetype": "text/x-python",
   "name": "python",
   "nbconvert_exporter": "python",
   "pygments_lexer": "ipython3",
   "version": "3.8.5"
  }
 },
 "nbformat": 4,
 "nbformat_minor": 4
}
