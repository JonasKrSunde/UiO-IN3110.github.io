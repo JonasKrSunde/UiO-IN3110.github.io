{
 "cells": [
  {
   "cell_type": "code",
   "execution_count": null,
   "metadata": {},
   "outputs": [],
   "source": [
    "import numpy as np"
   ]
  },
  {
   "cell_type": "code",
   "execution_count": null,
   "metadata": {},
   "outputs": [],
   "source": [
    "np.zeros(3, dtype=int)"
   ]
  },
  {
   "cell_type": "code",
   "execution_count": null,
   "metadata": {},
   "outputs": [],
   "source": [
    "np.ones((2, 3))"
   ]
  },
  {
   "cell_type": "code",
   "execution_count": null,
   "metadata": {},
   "outputs": [],
   "source": [
    "np.empty((3, 2, 3), dtype=float)"
   ]
  },
  {
   "cell_type": "markdown",
   "metadata": {},
   "source": [
    "## Exercise\n",
    "\n",
    "Create a 3D array of integers, 2 x 2 x 3, filled with the number 10"
   ]
  },
  {
   "cell_type": "code",
   "execution_count": null,
   "metadata": {},
   "outputs": [],
   "source": [
    "A = ..."
   ]
  },
  {
   "cell_type": "markdown",
   "metadata": {},
   "source": [
    "## Exercise\n",
    "\n",
    "Create a 2D array of integers, 5 x 6, where each item is the product of its row and column:\n",
    "\n",
    "$$\n",
    "A_{i, j} = i \\cdot j ; \\text{where } i \\in [1,5], j \\in [1,6]\n",
    "$$\n"
   ]
  },
  {
   "cell_type": "code",
   "execution_count": null,
   "metadata": {},
   "outputs": [],
   "source": [
    "A = ..."
   ]
  },
  {
   "cell_type": "markdown",
   "metadata": {},
   "source": [
    "## Exercise\n",
    "\n",
    "Make a square wave:\n",
    "\n",
    "- length = 64\n",
    "- where every 8 elements is either 0 or 1\n",
    "\n",
    "![squarewave](squarewave.png)\n",
    "\n",
    "\n",
    "Bonus: 2D!\n",
    "\n",
    "- 64 x 64, floats\n",
    "- where every 8 rows and columns is either 1 or 0"
   ]
  },
  {
   "cell_type": "code",
   "execution_count": null,
   "metadata": {},
   "outputs": [],
   "source": [
    "%matplotlib inline\n",
    "import matplotlib.pyplot as plt"
   ]
  },
  {
   "cell_type": "code",
   "execution_count": null,
   "metadata": {},
   "outputs": [],
   "source": [
    "N = 64\n",
    "x = np.arange(1, N)\n",
    "y = ..."
   ]
  },
  {
   "cell_type": "code",
   "execution_count": null,
   "metadata": {},
   "outputs": [],
   "source": []
  },
  {
   "cell_type": "markdown",
   "metadata": {},
   "source": [
    "## Physics!\n",
    "\n",
    "The heat equation is often used for blurring:\n",
    "\n",
    "$$\n",
    "\\frac{\\partial X}{\\partial t} = - \\frac{\\partial^2 X}{\\partial x^2}\n",
    "$$\n",
    "\n",
    "When discretized, it looks like this:\n",
    "\n",
    "$$\n",
    "\\begin{align}\n",
    "X_i^{n+1} & = X_i^{n} + \\frac{1}{4} \\left( X_{i-1} - 2 X_{i} + X_{i+1} \\right) ; i \\in [1,N-1] \\\\\n",
    "X_0^{n+1} & = X_0^n \\\\\n",
    "X_N^{n+1} & = X_N^n\n",
    "\\end{align}\n",
    "$$\n",
    "\n",
    "Or applied in two dimensions:\n",
    "\n",
    "$$\n",
    "\\begin{align}\n",
    "X_{i,j}^{n+1} & = X_{i,j}^{n} + \\frac{1}{4} \\left( X_{i-1,j} + X_{i,j-1} - 4 X_{i,j} + X_{i+1,j} + X_{i,j+1} \\right) ; i,j \\in [1,N-1] \\\\\n",
    "X_{0,j}^{n+1} & = X_{0,j}^n \\\\\n",
    "X_{N,j}^{n+1} & = X_{N,j}^n \\\\\n",
    "X_{i,0}^{n+1} & = X_{i,0}^n \\\\\n",
    "X_{i,N}^{n+1} & = X_{i,N}^n\n",
    "\\end{align}\n",
    "$$\n"
   ]
  },
  {
   "cell_type": "markdown",
   "metadata": {},
   "source": [
    "## Exercise\n",
    "\n",
    "Implement a number of steps of the heat equation using numpy slicing:"
   ]
  },
  {
   "cell_type": "code",
   "execution_count": null,
   "metadata": {},
   "outputs": [],
   "source": [
    "def heat(y, iterations=1):\n",
    "    for i in range(iterations):\n",
    "        y2 = ?\n",
    "        y2[...] = ?\n",
    "    return y2\n",
    "\n",
    "\n",
    "plt.plot(x, y, label=\"square\")\n",
    "plt.plot(x, heat(y), label=\"heat(1)\")\n",
    "plt.plot(x, heat(y, 10), label=\"heat(10)\")\n",
    "plt.plot(x, heat(y, 50), label=\"heat(50)\")\n",
    "\n",
    "\n",
    "plt.legend(loc=0)"
   ]
  },
  {
   "cell_type": "code",
   "execution_count": null,
   "metadata": {},
   "outputs": [],
   "source": []
  },
  {
   "cell_type": "code",
   "execution_count": null,
   "metadata": {},
   "outputs": [],
   "source": [
    "def heat_2d(y, iterations=1):\n",
    "    for i in range(iterations):\n",
    "        y2 = ...\n",
    "        y2[?] = ...\n",
    "\n",
    "    return y2\n",
    "\n",
    "plt.pcolor(heat_2d(A, 10), cmap=\"Greys\")\n"
   ]
  },
  {
   "cell_type": "markdown",
   "metadata": {},
   "source": [
    "## Exercise\n",
    "\n",
    "The dot product $u \\cdot v$ for vectors is defined as the **cumulative sum** of the **elementwise product** of $u$ and $v$:\n",
    "\n",
    "$$\n",
    "u \\cdot v = \\sum_{i=0}^N u_i v_i\n",
    "$$\n",
    "\n",
    "Part 1: implement the dot product for any two Python iterables"
   ]
  },
  {
   "cell_type": "code",
   "execution_count": null,
   "metadata": {},
   "outputs": [],
   "source": [
    "def dot(u, v):\n",
    "    result = 0\n",
    "    ...\n",
    "    return result"
   ]
  },
  {
   "cell_type": "code",
   "execution_count": null,
   "metadata": {},
   "outputs": [],
   "source": [
    "N = 100\n",
    "u = np.arange(N)\n",
    "v = np.arange(N)\n",
    "\n",
    "dot(u, v)"
   ]
  },
  {
   "cell_type": "markdown",
   "metadata": {},
   "source": [
    "Part 2: Measure how long it takes to call your function for iterables of sizes 1000 - 1,000,000"
   ]
  },
  {
   "cell_type": "code",
   "execution_count": null,
   "metadata": {},
   "outputs": [],
   "source": [
    "import time\n",
    "\n",
    "tic = time.perf_counter()\n",
    "time.sleep(0.1)\n",
    "toc = time.perf_counter()\n",
    "duration = toc - tic\n",
    "print(f\"sleep(0.1) took {duration:.4f}s\")"
   ]
  },
  {
   "cell_type": "code",
   "execution_count": null,
   "metadata": {},
   "outputs": [],
   "source": [
    "for N in [1000, 10_000, 100_000, 1_000_000]:\n",
    "    u = ...\n",
    "    r = dot(u, v)\n",
    "    ...\n",
    "    print(f\"N={N:8}, {1000 * (duration):8.2f}ms\")\n"
   ]
  },
  {
   "cell_type": "markdown",
   "metadata": {},
   "source": [
    "Numpy has its own builtin dot function:"
   ]
  },
  {
   "cell_type": "code",
   "execution_count": null,
   "metadata": {},
   "outputs": [],
   "source": [
    "np.dot(u, v)"
   ]
  },
  {
   "cell_type": "markdown",
   "metadata": {},
   "source": [
    "This is also called via the matrix multiplication operator `@`:"
   ]
  },
  {
   "cell_type": "code",
   "execution_count": null,
   "metadata": {},
   "outputs": [],
   "source": [
    "u @ v"
   ]
  },
  {
   "cell_type": "markdown",
   "metadata": {},
   "source": [
    "How does numpy's dot function perform?"
   ]
  },
  {
   "cell_type": "code",
   "execution_count": null,
   "metadata": {},
   "outputs": [],
   "source": [
    "for N in [1000, 10_000, 100_000, 1_000_000]:\n",
    "    ...\n"
   ]
  },
  {
   "cell_type": "markdown",
   "metadata": {},
   "source": [
    "# Plotting"
   ]
  },
  {
   "cell_type": "code",
   "execution_count": null,
   "metadata": {},
   "outputs": [],
   "source": [
    "%matplotlib inline\n",
    "import matplotlib.pyplot as plt"
   ]
  },
  {
   "cell_type": "markdown",
   "metadata": {},
   "source": [
    "For basic plots, `plt.plot` takes an `x` list or array and a `y` list or array\n",
    "and plots them on a linear scale:"
   ]
  },
  {
   "cell_type": "code",
   "execution_count": null,
   "metadata": {},
   "outputs": [],
   "source": [
    "t = np.linspace(0, 10, 1000)\n",
    "sin_t = np.sin(t)\n",
    "cos_t = np.cos(t)\n",
    "plt.plot(t, sin_t)\n",
    "plt.plot(t, cos_t)"
   ]
  },
  {
   "cell_type": "markdown",
   "metadata": {},
   "source": [
    "For certain kinds of data, a linear scale isn't a great fit:"
   ]
  },
  {
   "cell_type": "code",
   "execution_count": null,
   "metadata": {},
   "outputs": [],
   "source": [
    "x = [1, 10, 100, 1_000, 10_000, 100_000]\n",
    "x_squared = np.array(x) ** 2\n",
    "plt.plot(x, x_squared, '-o')"
   ]
  },
  {
   "cell_type": "code",
   "execution_count": null,
   "metadata": {},
   "outputs": [],
   "source": [
    "plt.loglog(x, x_squared, '-o')"
   ]
  },
  {
   "cell_type": "markdown",
   "metadata": {},
   "source": [
    "The slope on a linear scale is $\\frac{y}{x}$.\n",
    "The slope on a *log-log* scale is $\\frac{log(y)}{log(x)}$.\n",
    "\n",
    "$$\n",
    "\\begin{align}\n",
    "y &=  x ^ 2 \\\\\n",
    "\\frac{y}{x} & = x \\\\\n",
    "log(y) & = log(x^2) =  2 log(x) \\\\\n",
    "\\frac{log(y)}{log(x)} &= 2  \\text{ (log-log slope) }\n",
    "\\end{align}\n",
    "$$"
   ]
  },
  {
   "cell_type": "code",
   "execution_count": null,
   "metadata": {},
   "outputs": [],
   "source": [
    "t = np.linspace(0, 100, 1000)\n",
    "plt.semilogx(t, np.sin(t))"
   ]
  },
  {
   "cell_type": "code",
   "execution_count": null,
   "metadata": {},
   "outputs": [],
   "source": [
    "x = np.linspace(0, 10, 1000)\n",
    "e_x2 = np.e ** (x / 2)\n",
    "plt.plot(x, e_x2)"
   ]
  },
  {
   "cell_type": "code",
   "execution_count": null,
   "metadata": {},
   "outputs": [],
   "source": [
    "plt.loglog(x, e_x2)"
   ]
  },
  {
   "cell_type": "code",
   "execution_count": null,
   "metadata": {},
   "outputs": [],
   "source": [
    "plt.semilogy(x, e_x2)"
   ]
  },
  {
   "cell_type": "markdown",
   "metadata": {},
   "source": [
    "Slope on a semi-log scale is $\\frac{log(y)}{x}$\n",
    "\n",
    "$$\n",
    "\\begin{align}\n",
    "y & = e^\\frac{x}{2} \\\\\n",
    "log(y) & = log(e^\\frac{x}{2}) = \\frac{x}{2} \\\\\n",
    "\\frac{log(y)}{x} & = \\frac{1}{2}\n",
    "\\end{align}\n",
    "$$"
   ]
  },
  {
   "cell_type": "markdown",
   "metadata": {},
   "source": [
    "# Exercise\n",
    "\n",
    "collect timings for your dot product and numpy's dot for a range of lengths up to $\\sim10^6$,\n",
    "and plot:\n",
    "\n",
    "1. a separate line for each implementation on one plot, and\n",
    "2. a single line showing numpy performance *relative* to yours\n",
    "\n",
    "Think about what axis scale is most appropriate for your data"
   ]
  },
  {
   "cell_type": "code",
   "execution_count": null,
   "metadata": {},
   "outputs": [],
   "source": [
    "n_list = []\n",
    "my_times = []\n",
    "numpy_times = []\n",
    "\n"
   ]
  }
 ],
 "metadata": {
  "kernelspec": {
   "display_name": "Python 3",
   "language": "python",
   "name": "python3"
  },
  "language_info": {
   "codemirror_mode": {
    "name": "ipython",
    "version": 3
   },
   "file_extension": ".py",
   "mimetype": "text/x-python",
   "name": "python",
   "nbconvert_exporter": "python",
   "pygments_lexer": "ipython3",
   "version": "3.7.6"
  }
 },
 "nbformat": 4,
 "nbformat_minor": 4
}
